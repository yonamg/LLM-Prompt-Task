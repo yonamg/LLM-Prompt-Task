{
 "cells": [
  {
   "cell_type": "code",
   "execution_count": 1,
   "metadata": {},
   "outputs": [],
   "source": [
    "#import required python libraries\n",
    "import cohere\n",
    "import pandas as pd\n",
    "import requests\n",
    "import datetime\n",
    "from tqdm import tqdm"
   ]
  },
  {
   "cell_type": "code",
   "execution_count": 2,
   "metadata": {},
   "outputs": [],
   "source": [
    "#Get the data\n",
    "train_df = pd.read_json('../data/relations_training.txt')\n",
    "test_df = pd.read_json('../data/relations_test.txt') "
   ]
  },
  {
   "cell_type": "code",
   "execution_count": 3,
   "metadata": {},
   "outputs": [],
   "source": [
    "\n",
    "def pre_process_tokens(tokens):\n",
    "    enti={}\n",
    "    for t in tokens:\n",
    "        \n",
    "        if t['entityLabel'] in enti.keys():\n",
    "            enti[t['entityLabel']] = enti[t['entityLabel']] +','+t['text']\n",
    "        else:\n",
    "            enti[t['entityLabel']] = t['text']\n",
    "    label = \"\"\n",
    "    for k, v in enti.items():\n",
    "        label += k+':'+v+\"\\n\"\n",
    "    return label"
   ]
  },
  {
   "cell_type": "code",
   "execution_count": 4,
   "metadata": {},
   "outputs": [],
   "source": [
    "train_df['label'] = train_df['tokens'].apply(pre_process_tokens)\n",
    "test_df['label'] = test_df['tokens'].apply(pre_process_tokens)"
   ]
  },
  {
   "cell_type": "code",
   "execution_count": 5,
   "metadata": {},
   "outputs": [
    {
     "data": {
      "text/html": [
       "<div>\n",
       "<style scoped>\n",
       "    .dataframe tbody tr th:only-of-type {\n",
       "        vertical-align: middle;\n",
       "    }\n",
       "\n",
       "    .dataframe tbody tr th {\n",
       "        vertical-align: top;\n",
       "    }\n",
       "\n",
       "    .dataframe thead th {\n",
       "        text-align: right;\n",
       "    }\n",
       "</style>\n",
       "<table border=\"1\" class=\"dataframe\">\n",
       "  <thead>\n",
       "    <tr style=\"text-align: right;\">\n",
       "      <th></th>\n",
       "      <th>document</th>\n",
       "      <th>tokens</th>\n",
       "      <th>relations</th>\n",
       "      <th>label</th>\n",
       "    </tr>\n",
       "  </thead>\n",
       "  <tbody>\n",
       "    <tr>\n",
       "      <th>0</th>\n",
       "      <td>\\nCurrently holding a faculty, industry, or go...</td>\n",
       "      <td>[{'text': 'Ph.D.', 'start': 75, 'end': 80, 'to...</td>\n",
       "      <td>[{'child': 18, 'head': 14, 'relationLabel': 'D...</td>\n",
       "      <td>DIPLOMA:Ph.D.\\nDIPLOMA_MAJOR:machine learning,...</td>\n",
       "    </tr>\n",
       "    <tr>\n",
       "      <th>1</th>\n",
       "      <td>\\n2+ years experience in the online advertisin...</td>\n",
       "      <td>[{'text': '2+ years', 'start': 1, 'end': 9, 't...</td>\n",
       "      <td>[{'child': 7, 'head': 1, 'relationLabel': 'EXP...</td>\n",
       "      <td>EXPERIENCE:2+ years\\nSKILLS:online advertising...</td>\n",
       "    </tr>\n",
       "    <tr>\n",
       "      <th>2</th>\n",
       "      <td>\\nBA/BS\\n5+ years of program or project manage...</td>\n",
       "      <td>[{'text': '5+ years', 'start': 7, 'end': 15, '...</td>\n",
       "      <td>[{'child': 11, 'head': 5, 'relationLabel': 'EX...</td>\n",
       "      <td>EXPERIENCE:5+ years,2+ years\\nSKILLS:project m...</td>\n",
       "    </tr>\n",
       "    <tr>\n",
       "      <th>3</th>\n",
       "      <td>\\nCurrently enrolled in a full-time degree pro...</td>\n",
       "      <td>[{'text': 'Ph.D.', 'start': 801, 'end': 806, '...</td>\n",
       "      <td>[{'child': 140, 'head': 137, 'relationLabel': ...</td>\n",
       "      <td>DIPLOMA:Ph.D.\\nDIPLOMA_MAJOR:Computer Science\\n</td>\n",
       "    </tr>\n",
       "    <tr>\n",
       "      <th>4</th>\n",
       "      <td>\\nCurrently enrolled in a full-time degree pro...</td>\n",
       "      <td>[{'text': 'Ph.D.', 'start': 801, 'end': 806, '...</td>\n",
       "      <td>[{'child': 140, 'head': 137, 'relationLabel': ...</td>\n",
       "      <td>DIPLOMA:Ph.D.\\nDIPLOMA_MAJOR:Computer Science\\n</td>\n",
       "    </tr>\n",
       "    <tr>\n",
       "      <th>5</th>\n",
       "      <td>\\nMS in a quantitative field such as Operation...</td>\n",
       "      <td>[{'text': 'MS', 'start': 1, 'end': 3, 'token_s...</td>\n",
       "      <td>[{'child': 8, 'head': 1, 'relationLabel': 'DEG...</td>\n",
       "      <td>DIPLOMA:MS,PhD\\nDIPLOMA_MAJOR:Operations Resea...</td>\n",
       "    </tr>\n",
       "    <tr>\n",
       "      <th>6</th>\n",
       "      <td>\\nPh.D. with 5+ years of experience, MS with 7...</td>\n",
       "      <td>[]</td>\n",
       "      <td>[]</td>\n",
       "      <td></td>\n",
       "    </tr>\n",
       "    <tr>\n",
       "      <th>7</th>\n",
       "      <td>\\nGraduating with a Ph.D. in Computer Science ...</td>\n",
       "      <td>[{'text': 'Ph.D.', 'start': 19, 'end': 24, 'to...</td>\n",
       "      <td>[{'child': 6, 'head': 4, 'relationLabel': 'DEG...</td>\n",
       "      <td>DIPLOMA:Ph.D.\\nDIPLOMA_MAJOR:Computer Science\\n</td>\n",
       "    </tr>\n",
       "    <tr>\n",
       "      <th>8</th>\n",
       "      <td>\\n12+ years of research experience, in-house o...</td>\n",
       "      <td>[{'text': '12+ years', 'start': 1, 'end': 10, ...</td>\n",
       "      <td>[{'child': 5, 'head': 1, 'relationLabel': 'EXP...</td>\n",
       "      <td>EXPERIENCE:12+ years\\nSKILLS:research,Ph.D\\nDI...</td>\n",
       "    </tr>\n",
       "    <tr>\n",
       "      <th>9</th>\n",
       "      <td>\\nPhD with 3+ years, or MS with 5+ years of ex...</td>\n",
       "      <td>[{'text': '5+ years', 'start': 31, 'end': 39, ...</td>\n",
       "      <td>[{'child': 18, 'head': 10, 'relationLabel': 'E...</td>\n",
       "      <td>EXPERIENCE:5+ years,3+ years,3+ years,5+ years...</td>\n",
       "    </tr>\n",
       "    <tr>\n",
       "      <th>10</th>\n",
       "      <td>\\nCurrently holding a faculty, industry, or go...</td>\n",
       "      <td>[{'text': 'Ph.D.', 'start': 75, 'end': 80, 'to...</td>\n",
       "      <td>[{'child': 18, 'head': 14, 'relationLabel': 'D...</td>\n",
       "      <td>DIPLOMA:Ph.D.\\nDIPLOMA_MAJOR:machine learning,...</td>\n",
       "    </tr>\n",
       "  </tbody>\n",
       "</table>\n",
       "</div>"
      ],
      "text/plain": [
       "                                             document  \\\n",
       "0   \\nCurrently holding a faculty, industry, or go...   \n",
       "1   \\n2+ years experience in the online advertisin...   \n",
       "2   \\nBA/BS\\n5+ years of program or project manage...   \n",
       "3   \\nCurrently enrolled in a full-time degree pro...   \n",
       "4   \\nCurrently enrolled in a full-time degree pro...   \n",
       "5   \\nMS in a quantitative field such as Operation...   \n",
       "6   \\nPh.D. with 5+ years of experience, MS with 7...   \n",
       "7   \\nGraduating with a Ph.D. in Computer Science ...   \n",
       "8   \\n12+ years of research experience, in-house o...   \n",
       "9   \\nPhD with 3+ years, or MS with 5+ years of ex...   \n",
       "10  \\nCurrently holding a faculty, industry, or go...   \n",
       "\n",
       "                                               tokens  \\\n",
       "0   [{'text': 'Ph.D.', 'start': 75, 'end': 80, 'to...   \n",
       "1   [{'text': '2+ years', 'start': 1, 'end': 9, 't...   \n",
       "2   [{'text': '5+ years', 'start': 7, 'end': 15, '...   \n",
       "3   [{'text': 'Ph.D.', 'start': 801, 'end': 806, '...   \n",
       "4   [{'text': 'Ph.D.', 'start': 801, 'end': 806, '...   \n",
       "5   [{'text': 'MS', 'start': 1, 'end': 3, 'token_s...   \n",
       "6                                                  []   \n",
       "7   [{'text': 'Ph.D.', 'start': 19, 'end': 24, 'to...   \n",
       "8   [{'text': '12+ years', 'start': 1, 'end': 10, ...   \n",
       "9   [{'text': '5+ years', 'start': 31, 'end': 39, ...   \n",
       "10  [{'text': 'Ph.D.', 'start': 75, 'end': 80, 'to...   \n",
       "\n",
       "                                            relations  \\\n",
       "0   [{'child': 18, 'head': 14, 'relationLabel': 'D...   \n",
       "1   [{'child': 7, 'head': 1, 'relationLabel': 'EXP...   \n",
       "2   [{'child': 11, 'head': 5, 'relationLabel': 'EX...   \n",
       "3   [{'child': 140, 'head': 137, 'relationLabel': ...   \n",
       "4   [{'child': 140, 'head': 137, 'relationLabel': ...   \n",
       "5   [{'child': 8, 'head': 1, 'relationLabel': 'DEG...   \n",
       "6                                                  []   \n",
       "7   [{'child': 6, 'head': 4, 'relationLabel': 'DEG...   \n",
       "8   [{'child': 5, 'head': 1, 'relationLabel': 'EXP...   \n",
       "9   [{'child': 18, 'head': 10, 'relationLabel': 'E...   \n",
       "10  [{'child': 18, 'head': 14, 'relationLabel': 'D...   \n",
       "\n",
       "                                                label  \n",
       "0   DIPLOMA:Ph.D.\\nDIPLOMA_MAJOR:machine learning,...  \n",
       "1   EXPERIENCE:2+ years\\nSKILLS:online advertising...  \n",
       "2   EXPERIENCE:5+ years,2+ years\\nSKILLS:project m...  \n",
       "3     DIPLOMA:Ph.D.\\nDIPLOMA_MAJOR:Computer Science\\n  \n",
       "4     DIPLOMA:Ph.D.\\nDIPLOMA_MAJOR:Computer Science\\n  \n",
       "5   DIPLOMA:MS,PhD\\nDIPLOMA_MAJOR:Operations Resea...  \n",
       "6                                                      \n",
       "7     DIPLOMA:Ph.D.\\nDIPLOMA_MAJOR:Computer Science\\n  \n",
       "8   EXPERIENCE:12+ years\\nSKILLS:research,Ph.D\\nDI...  \n",
       "9   EXPERIENCE:5+ years,3+ years,3+ years,5+ years...  \n",
       "10  DIPLOMA:Ph.D.\\nDIPLOMA_MAJOR:machine learning,...  "
      ]
     },
     "execution_count": 5,
     "metadata": {},
     "output_type": "execute_result"
    }
   ],
   "source": [
    "test_df"
   ]
  },
  {
   "cell_type": "markdown",
   "metadata": {},
   "source": [
    "Preprocess the data"
   ]
  },
  {
   "cell_type": "code",
   "execution_count": 7,
   "metadata": {},
   "outputs": [
    {
     "name": "stdout",
     "output_type": "stream",
     "text": [
      "Done\n"
     ]
    }
   ],
   "source": [
    "train_doc = []\n",
    "for i in range(train_df.shape[0]):\n",
    "    ent = train_df.label.iloc[i]\n",
    "    docu = train_df.document.iloc[i].replace(\"\\n\",\" \")\n",
    "    if len(ent)!=0:\n",
    "        train_doc.append(docu+\"\\n\\nExtracted Text:\" +\n",
    "                        '\\n'+ent+\"----\\n\")\n",
    "    \n",
    "with open('../data/data_entity.txt','w') as f:\n",
    "    for item in train_doc:\n",
    "        # write each item on a new line\n",
    "        f.write(\"%s\\n\" % item.strip())\n",
    "    print('Done')"
   ]
  },
  {
   "cell_type": "code",
   "execution_count": 8,
   "metadata": {},
   "outputs": [],
   "source": [
    "test_doc = test_df.document.apply(\n",
    "    lambda x: x.replace(\"\\n\", \" \")+'\\n\\nExtracted Text:').to_list()"
   ]
  },
  {
   "cell_type": "code",
   "execution_count": 9,
   "metadata": {},
   "outputs": [],
   "source": [
    "import os, sys\n",
    "sys.path.append(os.path.abspath(os.path.join('..')))\n",
    "import config"
   ]
  },
  {
   "cell_type": "code",
   "execution_count": 10,
   "metadata": {},
   "outputs": [],
   "source": [
    "api_key = config.cohere_api['api_key']\n",
    "co = cohere.Client(api_key)"
   ]
  },
  {
   "cell_type": "code",
   "execution_count": 11,
   "metadata": {},
   "outputs": [],
   "source": [
    "#@title Create the prompt (Run this cell to execute required code) {display-mode: \"form\"}\n",
    "\n",
    "class cohereExtractor():\n",
    "    def __init__(self, examples):\n",
    "        self.examples = examples\n",
    "\n",
    "    def make_prompt(self, example):\n",
    "        prompt = self.examples + [example]\n",
    "       \n",
    "        return (\"\".join([str(exam) for exam in prompt]))\n",
    "\n",
    "    def extract(self, example):\n",
    "        extraction = co.generate(\n",
    "            model='large',\n",
    "            prompt=self.make_prompt(example),\n",
    "            max_tokens=100,\n",
    "            temperature=0.5,\n",
    "            stop_sequences=[\"----\"])\n",
    "        \n",
    "        return(extraction.generations[0].text[:-1])\n"
   ]
  },
  {
   "cell_type": "markdown",
   "metadata": {},
   "source": [
    "##### Prepare Prompt"
   ]
  },
  {
   "cell_type": "code",
   "execution_count": 12,
   "metadata": {},
   "outputs": [
    {
     "name": "stdout",
     "output_type": "stream",
     "text": [
      "MS/Ph.D. in CS/EE or related areas is required. Strong ability and effectiveness working in a significant technical problem domain, in the term of plan, design, execution, continuous release and service operation. Strong software engineering fundamentals, including coding, problem solving and data analysis skills. Background in machine learning/deep learning (strongly preferred). Passionate and self-motivated. Ability to effectively work in collaborative multiple project team environment and ship production features in a fast-paced environment. Good communication skills, both verbal and written. Customer/end result/Metrics driven in design and development. Strong ability in self-learning, entering new domain, managing through uncertainty in an innovative team environment\n",
      "\n",
      "Extracted Text:\n",
      "DIPLOMA:MS/Ph.D.\n",
      "DIPLOMA_MAJOR:CS/EE\n",
      "----\n",
      "1+ years development experience on Java stack AppConnect / API's experience is added advantage. Compute, Network and Storage Monitoring Tools (Ex: Netcool) Application Performance Tools (IBM APM) Cloud operations and Automation Tools (VmWare, ICAM, ...) Proven Record of developing enterprise class products and applications. Preferred Tech and Prof Experience None EO Statement IBM is committed to creating a diverse environment and is proud to be an equal opportunity employer. All qualified applicants will receive consideration for employment without regard to race, color, religion, gender, gender identity or expression, sexual orientation, national origin, genetics, disability, age, or veteran status. IBM is also committed to compliance with all fair employment practices regarding citizenship and immigration status. .\n",
      "\n",
      "Extracted Text:\n",
      "EXPERIENCE:1+ years\n",
      "SKILLS:development\n",
      "----\n",
      "Flexibility to work in an Agile or Iterative development model Knowledge, skills, training and experience in software-intensive systems; Knowledge, skills, training, and experience in software requirements and design engineering skills using a well-defined disciplined engineering process or methodology; Familiarity with Microsoft Office or other office automation/productivity software tools; Experience with modeling tools is highly recommended; Excellent oral and written communication skills; Experience with customer interaction; Experience in Healthcare Information Systems, Electronic Medical Records, Practice Management, HL7, ANSI Standards 837/835/277/276/270/271 Experience with DICOM is an asset Experience with imaging workflow is an asset Design pattern experience a plus Preferred Tech and Prof Experience An undergraduate degree or better in computer science or equivalent discipline or equivalent level of industry related experience; 3+ years of related experience in software development. EO Statement IBM is committed to creating a diverse environment and is proud to be an equal opportunity employer. All qualified applicants will receive consideration for employment without regard to race, color, religion, gender, gender identity or expression, sexual orientation, national origin, genetics, disability, age, or veteran status. IBM is also committed to compliance with all fair employment practices regarding citizenship and immigration status. .\n",
      "\n",
      "Extracted Text:\n",
      "EXPERIENCE:3+ years\n",
      "SKILLS:software development\n",
      "DIPLOMA:undergraduate\n",
      "DIPLOMA_MAJOR:computer science\n",
      "----\n",
      "Education & Experience Requirements: 3 to 6 years Capacity Planning and Supply planning experience (i.e., supply-demand balancing, constrained supply planning). BS degree in Engineering, Operations, Business, or other related quantitative disciplines Preferred: Strong aptitude for analytic thinking and solution development. Strong problem solving and negotiation skills. Experience in Sales & Operations Planning and processes preferred Familiarity with forecasting and statistical concepts. Proven capabilities to drive positive business results through cross-group collaboration and partnerships. Excellent communicator (written and verbal) with ability to create and deliver executive friendly communications on complex product, business, and supply chain topics. Ability to interact with diverse technical and non-technical groups spanning all organizational levels. Ability to deliver results in an ambiguous and evolving business environment. Ability to meet Microsoft, customer and/or government security screening requirements are required for this role. These requirements include, but are not limited to the following specialized security screenings: Microsoft Cloud Background Check: This position will be required to pass the Microsoft Cloud Background Check upon hire/transfer and every two years thereafter.\n",
      "\n",
      "Extracted Text:\n",
      "EXPERIENCE:3 to 6 years\n",
      "SKILLS:Capacity Planning,Supply planning,i.e.,supply-demand balancing,supply planning\n",
      "DIPLOMA:BS\n",
      "DIPLOMA_MAJOR:Engineering,Operations,Business\n",
      "----\n",
      "3-5 years of experience with integration product development and integration. Proven experience in Java,XML,XSLT, Javascript, J2EE, Oracle/DB2, Websphere/Weblogic, Struts, MQ Complex designs and development. ProvenExperience in JavaScript based UI development including Dojo, JQuery, Angular and Node JS. Experience in Docker, Jenkins, Git, Jira, JUnit. Fundamentals in algorithm design, problem solving, and complexity analysis Knowledge/Experience of full software development process, including coding standards, code reviews, source control management, build processes, testing, and operations Preferred Tech and Prof Experience Proven ability to work effectively in a multi-functional team B2B Domain experience with various standards such as AS2, RNIF, EBICS, SWIFT (will be an added advantage) EO Statement IBM is committed to creating a diverse environment and is proud to be an equal opportunity employer. All qualified applicants will receive consideration for employment without regard to race, color, religion, gender, gender identity or expression, sexual orientation, national origin, genetics, disability, age, or veteran status. IBM is also committed to compliance with all fair employment practices regarding citizenship and immigration status. .\n",
      "\n",
      "Extracted Text:\n",
      "EXPERIENCE:3-5 years\n",
      "SKILLS:integration,development,integration\n",
      "----\n",
      " Currently holding a faculty, industry, or government researcher position. Ph.D. and publications in machine learning, AI, computer science, statistics, applied mathematics, data science, or related technical fields. Experience leading a team in solving analytical problems using quantitative approaches. Experience solving analytical problems using quantitative approaches. Experience manipulating and analyzing data from different sources. Experience in theoretical and empirical research and for answering questions with research. Ability to communicate research. Knowledge in some programming language. Traduction franaise -  minimales: Occuper actuellement un poste de chercheur dans une facult, une industrie ou un gouvernement. Doctorat et des publications sur l'apprentissage automatique, l'intelligence artificielle, l'informatique, les statistiques, les mathmatiques appliques, la science des donnes ou des domaines techniques connexes. Exprience de la direction dune quipe dans la rsolution de problmes analytiques  laide dapproches quantitatives. Exprience en manipulation et analyse de donnes provenant de diffrentes sources. Rpondre  des questions avec la recherche capacit  communiquer la recherche. Connaissances dans certains langages de programmation.  PREFERRED  1+ year(s) of work experience in within a university, industry, or government lab(s), in a role with primary emphasis on AI research. Experience driving original scholarship in collaboration with a team. First-author publications at peer-reviewed AI conferences (e.g. NIPS, CVPR, ICML, ICLR, ICCV, and ACL). Experience in developing and debugging in C/C++, Python, C# and/or Java. Traduction franaise -  prfres: 1 an ou plus d'exprience de travail dans une universit, une industrie ou un laboratoire gouvernemental, dans un rle principalement ax sur la recherche sur l'IA. Exprience de la conduite de la bourse originale en collaboration avec une quipe. Publications du premier auteur lors de confrences sur lIA examines par des pairs (par exemple NIPS, CVPR, ICML, ICLR, ICCV et ACL). Exprience dans le dveloppement et le dbogage en C / C ++, Python, C # et / ou Java.\n",
      "\n",
      "Extracted Text:\n"
     ]
    }
   ],
   "source": [
    "cohereJobExtractor = cohereExtractor(train_doc[:5])\n",
    "print(cohereJobExtractor.make_prompt(test_doc[-1]))"
   ]
  },
  {
   "cell_type": "code",
   "execution_count": null,
   "metadata": {},
   "outputs": [],
   "source": []
  },
  {
   "cell_type": "code",
   "execution_count": 13,
   "metadata": {},
   "outputs": [
    {
     "name": "stderr",
     "output_type": "stream",
     "text": [
      "  9%|▉         | 1/11 [00:04<00:40,  4.10s/it]"
     ]
    },
    {
     "name": "stdout",
     "output_type": "stream",
     "text": [
      "\n",
      "EXPERIENCE:1+ year(s)\n",
      "SKILLS:research,programming,researcher,AI,machine learning,computer science,statistics,applied mathematics,data science,\n",
      "DIPLOMA:Ph.D\n",
      "DIPLOMA_MAJOR:CS,Statistics\n",
      "---\n"
     ]
    },
    {
     "name": "stderr",
     "output_type": "stream",
     "text": [
      " 18%|█▊        | 2/11 [00:08<00:36,  4.04s/it]"
     ]
    },
    {
     "name": "stdout",
     "output_type": "stream",
     "text": [
      "\n",
      "EXPERIENCE:2+ years\n",
      "SKILLS:online advertising,research\n",
      "---\n"
     ]
    },
    {
     "name": "stderr",
     "output_type": "stream",
     "text": [
      " 27%|██▋       | 3/11 [00:11<00:31,  3.91s/it]"
     ]
    },
    {
     "name": "stdout",
     "output_type": "stream",
     "text": [
      "\n",
      "EXPERIENCE:5+ years\n",
      "SKILLS:program,project\n",
      "---\n"
     ]
    },
    {
     "name": "stderr",
     "output_type": "stream",
     "text": [
      " 36%|███▋      | 4/11 [00:15<00:27,  3.99s/it]"
     ]
    },
    {
     "name": "stdout",
     "output_type": "stream",
     "text": [
      "\n",
      "EXPERIENCE:1+ years\n",
      "SKILLS:research,software engineering\n",
      "DIPLOMA:Ph.D.\n",
      "DIPLOMA_MAJOR:computer science\n",
      "---\n"
     ]
    },
    {
     "name": "stderr",
     "output_type": "stream",
     "text": [
      " 45%|████▌     | 5/11 [00:19<00:23,  3.99s/it]"
     ]
    },
    {
     "name": "stdout",
     "output_type": "stream",
     "text": [
      "\n",
      "EXPERIENCE:Currently enrolled\n",
      "SKILLS:Machine learning,AI,computer vision,natural language processing,computational neuroscience,optimization,computer science,statistics,applied mathematics,data science\n",
      "---\n"
     ]
    },
    {
     "name": "stderr",
     "output_type": "stream",
     "text": [
      " 55%|█████▍    | 6/11 [00:23<00:19,  3.92s/it]"
     ]
    },
    {
     "name": "stdout",
     "output_type": "stream",
     "text": [
      "\n",
      "EXPERIENCE:7+ years\n",
      "SKILLS:algorithms,optimization,R,Python\n",
      "---\n"
     ]
    },
    {
     "name": "stderr",
     "output_type": "stream",
     "text": [
      " 64%|██████▎   | 7/11 [00:30<00:19,  4.84s/it]"
     ]
    },
    {
     "name": "stdout",
     "output_type": "stream",
     "text": [
      "\n",
      "EXPERIENCE:5+ years\n",
      "SKILLS:Physics,Electrical Engineering,Computer Science,or a related technical field\n",
      "---\n"
     ]
    },
    {
     "name": "stderr",
     "output_type": "stream",
     "text": [
      " 73%|███████▎  | 8/11 [00:34<00:13,  4.56s/it]"
     ]
    },
    {
     "name": "stdout",
     "output_type": "stream",
     "text": [
      "\n",
      "EXPERIENCE:Graduating with a Ph.D.\n",
      "SKILLS:C/C++,Python,C#,Java\n",
      "DIPLOMA:Ph.D.\n",
      "DIPLOMA_MAJOR:CS\n",
      "---\n"
     ]
    },
    {
     "name": "stderr",
     "output_type": "stream",
     "text": [
      " 82%|████████▏ | 9/11 [00:38<00:08,  4.30s/it]"
     ]
    },
    {
     "name": "stdout",
     "output_type": "stream",
     "text": [
      "\n",
      "EXPERIENCE:12+ years\n",
      "SKILLS:research,research experience,human factors,cognitive psychology\n",
      "DIPLOMA:Ph.D\n",
      "DIPLOMA_MAJOR:human-computer interaction,human factors,cognitive psychology\n",
      "---\n"
     ]
    },
    {
     "name": "stderr",
     "output_type": "stream",
     "text": [
      " 91%|█████████ | 10/11 [00:42<00:04,  4.21s/it]"
     ]
    },
    {
     "name": "stdout",
     "output_type": "stream",
     "text": [
      "\n",
      "EXPERIENCE:3+ years\n",
      "SKILLS:research,analytics,management,finance,compensation,diversity\n",
      "DIPLOMA:PhD\n",
      "DIPLOMA_MAJOR:Industrial/Organizational Psychology,Organizational Behavior,Labor Economics,Management,Policy Analysis,\n",
      "---\n"
     ]
    },
    {
     "name": "stderr",
     "output_type": "stream",
     "text": [
      "100%|██████████| 11/11 [00:48<00:00,  4.39s/it]"
     ]
    },
    {
     "name": "stdout",
     "output_type": "stream",
     "text": [
      "\n",
      "EXPERIENCE:1+ year(s)\n",
      "SKILLS:research\n",
      "---\n"
     ]
    },
    {
     "name": "stderr",
     "output_type": "stream",
     "text": [
      "\n"
     ]
    }
   ],
   "source": [
    "results = []\n",
    "for text in tqdm(test_doc):\n",
    "    try:\n",
    "        extracted_text = cohereJobExtractor.extract(text)\n",
    "        print(extracted_text)\n",
    "        results.append(extracted_text)\n",
    "    except Exception as e:\n",
    "        print('ERROR: ', e)"
   ]
  },
  {
   "cell_type": "code",
   "execution_count": 14,
   "metadata": {},
   "outputs": [
    {
     "data": {
      "text/html": [
       "<div>\n",
       "<style scoped>\n",
       "    .dataframe tbody tr th:only-of-type {\n",
       "        vertical-align: middle;\n",
       "    }\n",
       "\n",
       "    .dataframe tbody tr th {\n",
       "        vertical-align: top;\n",
       "    }\n",
       "\n",
       "    .dataframe thead th {\n",
       "        text-align: right;\n",
       "    }\n",
       "</style>\n",
       "<table border=\"1\" class=\"dataframe\">\n",
       "  <thead>\n",
       "    <tr style=\"text-align: right;\">\n",
       "      <th></th>\n",
       "      <th>text</th>\n",
       "      <th>extracted_text</th>\n",
       "    </tr>\n",
       "  </thead>\n",
       "  <tbody>\n",
       "    <tr>\n",
       "      <th>0</th>\n",
       "      <td>Currently holding a faculty, industry, or gov...</td>\n",
       "      <td>\\nEXPERIENCE:1+ year(s)\\nSKILLS:research,progr...</td>\n",
       "    </tr>\n",
       "    <tr>\n",
       "      <th>1</th>\n",
       "      <td>2+ years experience in the online advertising...</td>\n",
       "      <td>\\nEXPERIENCE:2+ years\\nSKILLS:online advertisi...</td>\n",
       "    </tr>\n",
       "    <tr>\n",
       "      <th>2</th>\n",
       "      <td>BA/BS 5+ years of program or project manageme...</td>\n",
       "      <td>\\nEXPERIENCE:5+ years\\nSKILLS:program,project\\...</td>\n",
       "    </tr>\n",
       "    <tr>\n",
       "      <th>3</th>\n",
       "      <td>Currently enrolled in a full-time degree prog...</td>\n",
       "      <td>\\nEXPERIENCE:1+ years\\nSKILLS:research,softwar...</td>\n",
       "    </tr>\n",
       "    <tr>\n",
       "      <th>4</th>\n",
       "      <td>Currently enrolled in a full-time degree prog...</td>\n",
       "      <td>\\nEXPERIENCE:Currently enrolled\\nSKILLS:Machin...</td>\n",
       "    </tr>\n",
       "    <tr>\n",
       "      <th>5</th>\n",
       "      <td>MS in a quantitative field such as Operations...</td>\n",
       "      <td>\\nEXPERIENCE:7+ years\\nSKILLS:algorithms,optim...</td>\n",
       "    </tr>\n",
       "    <tr>\n",
       "      <th>6</th>\n",
       "      <td>Ph.D. with 5+ years of experience, MS with 7+...</td>\n",
       "      <td>\\nEXPERIENCE:5+ years\\nSKILLS:Physics,Electric...</td>\n",
       "    </tr>\n",
       "    <tr>\n",
       "      <th>7</th>\n",
       "      <td>Graduating with a Ph.D. in Computer Science o...</td>\n",
       "      <td>\\nEXPERIENCE:Graduating with a Ph.D.\\nSKILLS:C...</td>\n",
       "    </tr>\n",
       "    <tr>\n",
       "      <th>8</th>\n",
       "      <td>12+ years of research experience, in-house or...</td>\n",
       "      <td>\\nEXPERIENCE:12+ years\\nSKILLS:research,resear...</td>\n",
       "    </tr>\n",
       "    <tr>\n",
       "      <th>9</th>\n",
       "      <td>PhD with 3+ years, or MS with 5+ years of exp...</td>\n",
       "      <td>\\nEXPERIENCE:3+ years\\nSKILLS:research,analyti...</td>\n",
       "    </tr>\n",
       "    <tr>\n",
       "      <th>10</th>\n",
       "      <td>Currently holding a faculty, industry, or gov...</td>\n",
       "      <td>\\nEXPERIENCE:1+ year(s)\\nSKILLS:research\\n---</td>\n",
       "    </tr>\n",
       "  </tbody>\n",
       "</table>\n",
       "</div>"
      ],
      "text/plain": [
       "                                                 text  \\\n",
       "0    Currently holding a faculty, industry, or gov...   \n",
       "1    2+ years experience in the online advertising...   \n",
       "2    BA/BS 5+ years of program or project manageme...   \n",
       "3    Currently enrolled in a full-time degree prog...   \n",
       "4    Currently enrolled in a full-time degree prog...   \n",
       "5    MS in a quantitative field such as Operations...   \n",
       "6    Ph.D. with 5+ years of experience, MS with 7+...   \n",
       "7    Graduating with a Ph.D. in Computer Science o...   \n",
       "8    12+ years of research experience, in-house or...   \n",
       "9    PhD with 3+ years, or MS with 5+ years of exp...   \n",
       "10   Currently holding a faculty, industry, or gov...   \n",
       "\n",
       "                                       extracted_text  \n",
       "0   \\nEXPERIENCE:1+ year(s)\\nSKILLS:research,progr...  \n",
       "1   \\nEXPERIENCE:2+ years\\nSKILLS:online advertisi...  \n",
       "2   \\nEXPERIENCE:5+ years\\nSKILLS:program,project\\...  \n",
       "3   \\nEXPERIENCE:1+ years\\nSKILLS:research,softwar...  \n",
       "4   \\nEXPERIENCE:Currently enrolled\\nSKILLS:Machin...  \n",
       "5   \\nEXPERIENCE:7+ years\\nSKILLS:algorithms,optim...  \n",
       "6   \\nEXPERIENCE:5+ years\\nSKILLS:Physics,Electric...  \n",
       "7   \\nEXPERIENCE:Graduating with a Ph.D.\\nSKILLS:C...  \n",
       "8   \\nEXPERIENCE:12+ years\\nSKILLS:research,resear...  \n",
       "9   \\nEXPERIENCE:3+ years\\nSKILLS:research,analyti...  \n",
       "10      \\nEXPERIENCE:1+ year(s)\\nSKILLS:research\\n---  "
      ]
     },
     "execution_count": 14,
     "metadata": {},
     "output_type": "execute_result"
    }
   ],
   "source": [
    "pd.DataFrame(data={'text': test_doc, 'extracted_text': results})"
   ]
  },
  {
   "cell_type": "code",
   "execution_count": 15,
   "metadata": {},
   "outputs": [],
   "source": [
    "# Clean the data\n",
    "def clean_test(x):\n",
    "    x = \"\".join(x)\n",
    "    x = x.lower()\n",
    "    x = x.lstrip()\n",
    "    x = x.split(\"\\n\")\n",
    "    x = \"\".join(x)\n",
    "    x = x.split(':')\n",
    "    x = \"\".join(x)\n",
    "    return x\n",
    "\n",
    "def clean_extracted(x):\n",
    "    x = \"\".join(x)\n",
    "    x = x.lower()\n",
    "    x = x[:-3]\n",
    "    x = x.lstrip()\n",
    "    \n",
    "    x = x.split(\"\\n\")\n",
    "    x = \"\".join(x)\n",
    "    x = x.split(':')\n",
    "    x = \"\".join(x)\n",
    "   \n",
    "    return x"
   ]
  },
  {
   "cell_type": "code",
   "execution_count": 16,
   "metadata": {},
   "outputs": [],
   "source": [
    "from concurrent.futures import ThreadPoolExecutor\n",
    "\n",
    "extracted = []\n",
    "# Run the model to extract the entities\n",
    "with ThreadPoolExecutor(max_workers=8) as executor:\n",
    "    for i in executor.map(cohereJobExtractor.extract, test_df['document'].apply(\n",
    "            lambda x: \"Job: \"+x.replace(\"\\n\", \" \")+'\\n\\nExtracted Text:').to_list()):\n",
    "        extracted.append(str(i).strip())"
   ]
  },
  {
   "cell_type": "code",
   "execution_count": 17,
   "metadata": {},
   "outputs": [],
   "source": [
    "# Save results\n",
    "test_df['extracted_text'] = extracted"
   ]
  },
  {
   "cell_type": "code",
   "execution_count": 18,
   "metadata": {},
   "outputs": [],
   "source": [
    "test_df['extracted_text'] = test_df['extracted_text'].apply(clean_extracted)\n",
    "test_df['label'] = test_df['label'].apply(clean_test)"
   ]
  },
  {
   "cell_type": "code",
   "execution_count": 19,
   "metadata": {},
   "outputs": [],
   "source": [
    "from difflib import SequenceMatcher\n",
    "score = []\n",
    "for i in range(test_df.shape[0]):\n",
    "    \n",
    "    score.append(SequenceMatcher(None,test_df['label'].iloc[i],\n",
    "                          test_df['extracted_text'].iloc[i]).ratio())"
   ]
  },
  {
   "cell_type": "code",
   "execution_count": 20,
   "metadata": {},
   "outputs": [
    {
     "name": "stdout",
     "output_type": "stream",
     "text": [
      "Classification accuracy 48.889085593277315%\n"
     ]
    }
   ],
   "source": [
    "# Compare the label to the extracted text\n",
    "test_df['similarity_score'] = pd.DataFrame(score)\n",
    "\n",
    "# Print the accuracy\n",
    "print(f'Classification accuracy {test_df[\"similarity_score\"].mean() *100}%')"
   ]
  },
  {
   "cell_type": "markdown",
   "metadata": {},
   "source": [
    "### Finetuning a model"
   ]
  }
 ],
 "metadata": {
  "kernelspec": {
   "display_name": "Python 3.9.12 ('base')",
   "language": "python",
   "name": "python3"
  },
  "language_info": {
   "codemirror_mode": {
    "name": "ipython",
    "version": 3
   },
   "file_extension": ".py",
   "mimetype": "text/x-python",
   "name": "python",
   "nbconvert_exporter": "python",
   "pygments_lexer": "ipython3",
   "version": "3.9.12"
  },
  "orig_nbformat": 4,
  "vscode": {
   "interpreter": {
    "hash": "97a5d393b5c913facaaac29ce3e790b174913ab54f5c5158d95590b63a29edb8"
   }
  }
 },
 "nbformat": 4,
 "nbformat_minor": 2
}
