{
 "cells": [
  {
   "cell_type": "code",
   "execution_count": 1,
   "id": "85b7132c",
   "metadata": {},
   "outputs": [],
   "source": [
    "#import required python libraries\n",
    "import pandas as pd\n",
    "import cohere\n",
    "from sklearn.model_selection import train_test_split\n",
    "\n",
    "import numpy as np\n",
    "from sklearn.metrics import accuracy_score\n",
    "from sklearn.metrics import f1_score"
   ]
  },
  {
   "cell_type": "code",
   "execution_count": 2,
   "id": "d4a611f5",
   "metadata": {},
   "outputs": [],
   "source": [
    "\n",
    "import os\n",
    "import sys\n",
    "from cohere.classify import Example\n",
    "sys.path.append(os.path.abspath(os.path.join('..')))\n",
    "import config"
   ]
  },
  {
   "cell_type": "code",
   "execution_count": 4,
   "id": "a2ed756a",
   "metadata": {},
   "outputs": [],
   "source": [
    "api_key = config.cohere_api['api_key']\n",
    "co = cohere.Client(api_key)"
   ]
  },
  {
   "cell_type": "code",
   "execution_count": 5,
   "id": "b6d70275",
   "metadata": {},
   "outputs": [
    {
     "data": {
      "text/plain": [
       "(10, 9)"
      ]
     },
     "execution_count": 5,
     "metadata": {},
     "output_type": "execute_result"
    }
   ],
   "source": [
    "data_df = pd.read_csv('../data/Example_data2.csv')\n",
    "data_df.shape"
   ]
  }
 ],
 "metadata": {
  "kernelspec": {
   "display_name": "Python 3.9.12 ('base')",
   "language": "python",
   "name": "python3"
  },
  "language_info": {
   "codemirror_mode": {
    "name": "ipython",
    "version": 3
   },
   "file_extension": ".py",
   "mimetype": "text/x-python",
   "name": "python",
   "nbconvert_exporter": "python",
   "pygments_lexer": "ipython3",
   "version": "3.9.12"
  },
  "vscode": {
   "interpreter": {
    "hash": "97a5d393b5c913facaaac29ce3e790b174913ab54f5c5158d95590b63a29edb8"
   }
  }
 },
 "nbformat": 4,
 "nbformat_minor": 5
}
