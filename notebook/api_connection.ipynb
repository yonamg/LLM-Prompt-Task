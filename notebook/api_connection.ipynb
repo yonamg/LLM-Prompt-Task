{
 "cells": [
  {
   "cell_type": "markdown",
   "metadata": {},
   "source": [
    "Connection with Cohere"
   ]
  },
  {
   "cell_type": "code",
   "execution_count": 1,
   "metadata": {},
   "outputs": [],
   "source": [
    "# Import the libraries\n",
    "import cohere\n",
    "import pandas as pd\n",
    "import numpy as np\n",
    "import altair as alt\n",
    "import textwrap as tr"
   ]
  },
  {
   "cell_type": "code",
   "execution_count": 5,
   "metadata": {},
   "outputs": [],
   "source": [
    "import dvc.api"
   ]
  },
  {
   "cell_type": "code",
   "execution_count": 10,
   "metadata": {},
   "outputs": [],
   "source": [
    "#import api_key\n",
    "import sys\n",
    "import os\n",
    "sys.path.append(os.path.abspath(os.path.join('..')))\n",
    "sys.path.insert(0,'../')\n",
    "import config"
   ]
  },
  {
   "cell_type": "code",
   "execution_count": 4,
   "metadata": {},
   "outputs": [],
   "source": [
    "api_path = '../config.py'\n",
    "repo = 'https://github.com/yonamg/LLM-Prompt-Task'\n",
    "ver = 'd4e321d'"
   ]
  },
  {
   "cell_type": "code",
   "execution_count": 6,
   "metadata": {},
   "outputs": [],
   "source": [
    "api_url = dvc.api.get_url(\n",
    "    path=api_path,\n",
    "    repo=repo,\n",
    "    rev=ver\n",
    ")"
   ]
  },
  {
   "cell_type": "code",
   "execution_count": 12,
   "metadata": {},
   "outputs": [],
   "source": [
    "#Set -up the cohere client\n",
    "api_key = config.cohere_api['api_key']\n",
    "co = cohere.Client(api_key)"
   ]
  },
  {
   "cell_type": "markdown",
   "metadata": {},
   "source": [
    "#### Generate Text"
   ]
  },
  {
   "cell_type": "code",
   "execution_count": 13,
   "metadata": {},
   "outputs": [],
   "source": [
    "def generate_text(base_prompt, current_prompt):\n",
    "  \"\"\"\n",
    "  Generate text given a prompt\n",
    "  Arguments:\n",
    "    base_prompt(str): the base prompt containing the examples\n",
    "    current_prompt(str): the new topic to generate\n",
    "  Returns:\n",
    "    generation(str): the newly generated output text\n",
    "  \"\"\"\n",
    "  # Generate text by calling the Generate endpoint\n",
    "  \n",
    "  response = co.generate(\n",
    "    model='xlarge',\n",
    "    prompt = base_prompt + current_prompt,\n",
    "    max_tokens=75,\n",
    "    temperature=0.4,\n",
    "    stop_sequences=[\"--\"])\n",
    "  generation = response.generations[0].text\n",
    "\n",
    "  return generation"
   ]
  },
  {
   "cell_type": "code",
   "execution_count": 14,
   "metadata": {},
   "outputs": [],
   "source": [
    "# The base Prompt\n",
    "base_prompt = \"\"\"\n",
    "This program will generate the first paragraph of a blog post given a blog title.\n",
    "--\n",
    "Blog Title: Best Activities in Toronto\n",
    "First Paragraph: Looking for fun things to do in Toronto? When it comes to exploring Canada's\n",
    "largest city, there's an ever-evolving set of activities to choose from. Whether you're looking to\n",
    "visit a local museum or sample the city's varied cuisine, there is plenty to fill any itinerary. In\n",
    "this blog post, I'll share some of my favorite recommendations\n",
    "--\n",
    "Blog Title: Mastering Dynamic Programming\n",
    "First Paragraph: In this piece, we'll help you understand the fundamentals of dynamic programming,\n",
    "and when to apply this optimization technique. We'll break down bottom-up and top-down approaches to\n",
    "solve dynamic programming problems.\n",
    "--\n",
    "Blog Title:\"\"\""
   ]
  },
  {
   "cell_type": "code",
   "execution_count": 15,
   "metadata": {},
   "outputs": [],
   "source": [
    "# The list of topics\n",
    "topics = [\"How to Grow in Your Career\",\n",
    "          \"The Habits of Great Software Developers\",\n",
    "          \"Ideas for a Relaxing Weekend\"]"
   ]
  },
  {
   "cell_type": "code",
   "execution_count": 16,
   "metadata": {},
   "outputs": [],
   "source": [
    "# Keep the generations in a list of paragraphs\n",
    "paragraphs = []\n",
    "\n",
    "for topic in topics:\n",
    "  current_prompt = \" \" + topic + \"\\n\" + \"First Paragraph:\"\n",
    "  para = generate_text(base_prompt, current_prompt)\n",
    "  para = para.strip().replace(\"--\",\"\")\n",
    "  paragraphs.append(para)"
   ]
  },
  {
   "cell_type": "code",
   "execution_count": null,
   "metadata": {},
   "outputs": [],
   "source": []
  }
 ],
 "metadata": {
  "kernelspec": {
   "display_name": "Python 3.9.12 ('base')",
   "language": "python",
   "name": "python3"
  },
  "language_info": {
   "codemirror_mode": {
    "name": "ipython",
    "version": 3
   },
   "file_extension": ".py",
   "mimetype": "text/x-python",
   "name": "python",
   "nbconvert_exporter": "python",
   "pygments_lexer": "ipython3",
   "version": "3.9.12"
  },
  "orig_nbformat": 4,
  "vscode": {
   "interpreter": {
    "hash": "97a5d393b5c913facaaac29ce3e790b174913ab54f5c5158d95590b63a29edb8"
   }
  }
 },
 "nbformat": 4,
 "nbformat_minor": 2
}
