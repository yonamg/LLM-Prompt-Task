{
 "cells": [
  {
   "cell_type": "code",
   "execution_count": 1,
   "id": "443b6ebc",
   "metadata": {},
   "outputs": [
    {
     "name": "stdout",
     "output_type": "stream",
     "text": [
      "Collecting cohere\n",
      "  Downloading cohere-2.2.5.tar.gz (9.3 kB)\n",
      "Requirement already satisfied: requests in c:\\users\\machine\\anaconda3\\lib\\site-packages (from cohere) (2.27.1)\n",
      "Requirement already satisfied: idna<4,>=2.5 in c:\\users\\machine\\anaconda3\\lib\\site-packages (from requests->cohere) (3.3)\n",
      "Requirement already satisfied: urllib3<1.27,>=1.21.1 in c:\\users\\machine\\anaconda3\\lib\\site-packages (from requests->cohere) (1.26.9)\n",
      "Requirement already satisfied: charset-normalizer~=2.0.0 in c:\\users\\machine\\anaconda3\\lib\\site-packages (from requests->cohere) (2.0.4)\n",
      "Requirement already satisfied: certifi>=2017.4.17 in c:\\users\\machine\\anaconda3\\lib\\site-packages (from requests->cohere) (2022.6.15)\n",
      "Building wheels for collected packages: cohere\n",
      "  Building wheel for cohere (setup.py): started\n",
      "  Building wheel for cohere (setup.py): finished with status 'done'\n",
      "  Created wheel for cohere: filename=cohere-2.2.5-cp39-cp39-win_amd64.whl size=10450 sha256=b460f631e9deaba65950869e502918bfc6cd1ec49583caa968f88b2e36fdb569\n",
      "  Stored in directory: c:\\users\\machine\\appdata\\local\\pip\\cache\\wheels\\b0\\3d\\04\\b267aac618294db2c91ef14d0854ec281a8a4bd7b3ce99e08f\n",
      "Successfully built cohere\n",
      "Installing collected packages: cohere\n",
      "Successfully installed cohere-2.2.5\n"
     ]
    }
   ],
   "source": [
    "#install cohere's python API\n",
    "! pip install cohere"
   ]
  },
  {
   "cell_type": "markdown",
   "id": "902ba272",
   "metadata": {},
   "source": [
    "Get The dataset"
   ]
  },
  {
   "cell_type": "code",
   "execution_count": 2,
   "id": "b478ebd2",
   "metadata": {},
   "outputs": [],
   "source": [
    "import pandas as pd\n",
    "import cohere\n",
    "from sklearn.model_selection import train_test_split\n",
    "pd.set_option('display.max_colwidth', None)"
   ]
  },
  {
   "cell_type": "code",
   "execution_count": 7,
   "id": "ab2e1745",
   "metadata": {},
   "outputs": [],
   "source": [
    "#add cohere api\n",
    "api_key = ''\n",
    "\n",
    "# Create and retrieve a Cohere API key from os.cohere.ai\n",
    "coh = cohere.Client(api_key)"
   ]
  },
  {
   "cell_type": "code",
   "execution_count": 5,
   "id": "d25ae068",
   "metadata": {},
   "outputs": [],
   "source": [
    "df = pd.read_csv('../data/Example_data.csv', encoding= 'unicode_escape', header=None)"
   ]
  },
  {
   "cell_type": "code",
   "execution_count": null,
   "id": "b3e092c2",
   "metadata": {},
   "outputs": [],
   "source": []
  }
 ],
 "metadata": {
  "kernelspec": {
   "display_name": "Python 3 (ipykernel)",
   "language": "python",
   "name": "python3"
  },
  "language_info": {
   "codemirror_mode": {
    "name": "ipython",
    "version": 3
   },
   "file_extension": ".py",
   "mimetype": "text/x-python",
   "name": "python",
   "nbconvert_exporter": "python",
   "pygments_lexer": "ipython3",
   "version": "3.9.12"
  }
 },
 "nbformat": 4,
 "nbformat_minor": 5
}
