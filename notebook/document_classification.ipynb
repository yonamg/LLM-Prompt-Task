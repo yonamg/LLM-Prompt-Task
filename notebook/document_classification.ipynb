{
 "cells": [
  {
   "cell_type": "code",
   "execution_count": 1,
   "id": "64a38f3b",
   "metadata": {},
   "outputs": [
    {
     "name": "stdout",
     "output_type": "stream",
     "text": [
      "Collecting cohere\n",
      "  Downloading cohere-2.2.5.tar.gz (9.3 kB)\n",
      "Requirement already satisfied: requests in c:\\users\\machine\\anaconda3\\lib\\site-packages (from cohere) (2.27.1)\n",
      "Requirement already satisfied: idna<4,>=2.5 in c:\\users\\machine\\anaconda3\\lib\\site-packages (from requests->cohere) (3.3)\n",
      "Requirement already satisfied: urllib3<1.27,>=1.21.1 in c:\\users\\machine\\anaconda3\\lib\\site-packages (from requests->cohere) (1.26.9)\n",
      "Requirement already satisfied: charset-normalizer~=2.0.0 in c:\\users\\machine\\anaconda3\\lib\\site-packages (from requests->cohere) (2.0.4)\n",
      "Requirement already satisfied: certifi>=2017.4.17 in c:\\users\\machine\\anaconda3\\lib\\site-packages (from requests->cohere) (2022.6.15)\n",
      "Building wheels for collected packages: cohere\n",
      "  Building wheel for cohere (setup.py): started\n",
      "  Building wheel for cohere (setup.py): finished with status 'done'\n",
      "  Created wheel for cohere: filename=cohere-2.2.5-cp39-cp39-win_amd64.whl size=10450 sha256=b460f631e9deaba65950869e502918bfc6cd1ec49583caa968f88b2e36fdb569\n",
      "  Stored in directory: c:\\users\\machine\\appdata\\local\\pip\\cache\\wheels\\b0\\3d\\04\\b267aac618294db2c91ef14d0854ec281a8a4bd7b3ce99e08f\n",
      "Successfully built cohere\n",
      "Installing collected packages: cohere\n",
      "Successfully installed cohere-2.2.5\n"
     ]
    }
   ],
   "source": [
    "#install cohere's python API\n",
    "! pip install cohere"
   ]
  },
  {
   "cell_type": "markdown",
   "id": "1df1d937",
   "metadata": {},
   "source": [
    "Get The dataset"
   ]
  },
  {
   "cell_type": "code",
   "execution_count": null,
   "id": "e7e2d5fe",
   "metadata": {},
   "outputs": [],
   "source": []
  }
 ],
 "metadata": {
  "kernelspec": {
   "display_name": "Python 3 (ipykernel)",
   "language": "python",
   "name": "python3"
  },
  "language_info": {
   "codemirror_mode": {
    "name": "ipython",
    "version": 3
   },
   "file_extension": ".py",
   "mimetype": "text/x-python",
   "name": "python",
   "nbconvert_exporter": "python",
   "pygments_lexer": "ipython3",
   "version": "3.9.12"
  }
 },
 "nbformat": 4,
 "nbformat_minor": 5
}
